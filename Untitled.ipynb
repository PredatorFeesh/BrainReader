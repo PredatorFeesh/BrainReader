{
 "cells": [
  {
   "cell_type": "code",
   "execution_count": 1,
   "metadata": {
    "collapsed": true
   },
   "outputs": [],
   "source": [
    "import csv\n",
    "from multiprocessing import Pool\n",
    "from py2neo import Graph, Node, Relationship, authenticate"
   ]
  },
  {
   "cell_type": "code",
   "execution_count": 2,
   "metadata": {
    "collapsed": true
   },
   "outputs": [],
   "source": [
    "with open(\"db_info.log\", \"r\") as info:\n",
    "    password = info.read()\n",
    "    authenticate(\"127.0.0.1:7474\", \"neo4j\", password)\n",
    "    secure_graph = Graph(r\"http://127.0.0.1:7474/\")"
   ]
  },
  {
   "cell_type": "code",
   "execution_count": 3,
   "metadata": {},
   "outputs": [],
   "source": [
    "data = []\n",
    "person = Node(\"Person\", name=\"Micah\")\n",
    "with open(r'csv_files/Micah.csv') as csvfile:\n",
    "    datum = csv.reader(csvfile, delimiter=',')\n",
    "    i = 0\n",
    "    for row in datum:\n",
    "        if i != 0:\n",
    "            data.append(row)\n",
    "        i += 1"
   ]
  },
  {
   "cell_type": "code",
   "execution_count": 4,
   "metadata": {},
   "outputs": [],
   "source": [
    "names = \"Micah\"\n",
    "pool = Pool(processes=3)\n",
    "for i in range(50):\n",
    "    #Check if Node exists\n",
    "    timeNode = secure_graph.data(\"MATCH (n:Time) WHERE n.timestamp=\"+str(i)+\" RETURN n\")\n",
    "    if not timeNode:\n",
    "        timeNode = Node('Time', timestamp=i)\n",
    "    person_time = Relationship(person, 'AtTime', timeNode)\n",
    "    secure_graph.create(person_time)\n",
    "    for k in range(2, 6):\n",
    "        channel = Node(k - 1, value=data[i][k])\n",
    "        person_channel = Relationship(person, names + \"'s \" + str(k - 1) + ' Channel', channel)\n",
    "        time_channel = Relationship(timeNode, 'Channel ' + str(k - 1) + \" at time\", channel)\n",
    "        secure_graph.create(person_channel)\n",
    "        secure_graph.create(time_channel)"
   ]
  },
  {
   "cell_type": "code",
   "execution_count": null,
   "metadata": {
    "collapsed": true
   },
   "outputs": [],
   "source": []
  }
 ],
 "metadata": {
  "kernelspec": {
   "display_name": "Python 3",
   "language": "python",
   "name": "python3"
  },
  "language_info": {
   "codemirror_mode": {
    "name": "ipython",
    "version": 3
   },
   "file_extension": ".py",
   "mimetype": "text/x-python",
   "name": "python",
   "nbconvert_exporter": "python",
   "pygments_lexer": "ipython3",
   "version": "3.6.1"
  }
 },
 "nbformat": 4,
 "nbformat_minor": 2
}
